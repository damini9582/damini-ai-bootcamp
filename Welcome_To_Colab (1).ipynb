{
  "cells": [
    {
      "cell_type": "code",
      "source": [
        "print(\"hello,world!\")"
      ],
      "metadata": {
        "colab": {
          "base_uri": "https://localhost:8080/"
        },
        "id": "Iirneh_TzCnK",
        "outputId": "3f7635dc-70df-4cae-ffce-cd00e6aff20a"
      },
      "execution_count": 1,
      "outputs": [
        {
          "output_type": "stream",
          "name": "stdout",
          "text": [
            "hello,world!\n"
          ]
        }
      ]
    },
    {
      "cell_type": "code",
      "source": [
        "a = 5\n",
        "b = 6.5\n",
        "# addition\n",
        "c = a + b\n",
        "print(\"the sum of two number is\",c)"
      ],
      "metadata": {
        "colab": {
          "base_uri": "https://localhost:8080/"
        },
        "id": "UCDoXI9tzX0B",
        "outputId": "a77365a1-84ad-4874-bc90-13abc2c2cb4a"
      },
      "execution_count": 2,
      "outputs": [
        {
          "output_type": "stream",
          "name": "stdout",
          "text": [
            "the sum of two number is 11.5\n"
          ]
        }
      ]
    },
    {
      "cell_type": "code",
      "source": [
        "j = float(input(\"enter first number: \"))\n",
        "k = float(input(\"enter second number: \"))\n",
        "l = j*k\n",
        "print(\"The product of two number is\",l)"
      ],
      "metadata": {
        "colab": {
          "base_uri": "https://localhost:8080/"
        },
        "id": "Ds-EaK7wzub7",
        "outputId": "b90acdc9-1702-4543-b215-428c95ad998f"
      },
      "execution_count": 6,
      "outputs": [
        {
          "output_type": "stream",
          "name": "stdout",
          "text": [
            "enter first number: 15\n",
            "enter second number: 25\n",
            "The product of two number is 375.0\n"
          ]
        }
      ]
    }
  ],
  "metadata": {
    "colab": {
      "name": "Welcome To Colab",
      "provenance": []
    },
    "kernelspec": {
      "display_name": "Python 3",
      "name": "python3"
    }
  },
  "nbformat": 4,
  "nbformat_minor": 0
}